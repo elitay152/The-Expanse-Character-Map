{
 "cells": [
  {
   "attachments": {},
   "cell_type": "markdown",
   "metadata": {},
   "source": [
    "# Webscraping Project -- The Expanse\n",
    "By Eli Taylor\n",
    "\n",
    "I will be using the Selenium package to web scrape data on character names from The Expanse book series from The Expanse Fandom Wiki. After cleaning the data, I'll be using the character names to create a character map for the series using natural language processing."
   ]
  },
  {
   "attachments": {},
   "cell_type": "markdown",
   "metadata": {},
   "source": [
    "### Import Packages"
   ]
  },
  {
   "cell_type": "code",
   "execution_count": null,
   "metadata": {},
   "outputs": [],
   "source": [
    "import pandas as pd\n",
    "from selenium import webdriver\n",
    "from selenium.webdriver.chrome.service import Service\n",
    "from selenium.webdriver.common.by import By\n",
    "from webdriver_manager.chrome import ChromeDriverManager"
   ]
  },
  {
   "attachments": {},
   "cell_type": "markdown",
   "metadata": {},
   "source": [
    "### Create Driver with Selenium"
   ]
  },
  {
   "cell_type": "code",
   "execution_count": null,
   "metadata": {},
   "outputs": [],
   "source": [
    "driver = webdriver.Chrome(service=Service(ChromeDriverManager().install()))"
   ]
  },
  {
   "cell_type": "code",
   "execution_count": null,
   "metadata": {},
   "outputs": [],
   "source": [
    "page_url = 'https://expanse.fandom.com/wiki/Category:Characters_(Books)'\n",
    "driver.get(page_url)"
   ]
  },
  {
   "attachments": {},
   "cell_type": "markdown",
   "metadata": {},
   "source": [
    "### Get Character Names"
   ]
  },
  {
   "cell_type": "code",
   "execution_count": 44,
   "metadata": {},
   "outputs": [],
   "source": [
    "#this tells the driver where to look for the character names\n",
    "character_categories = driver.find_elements(By.CLASS_NAME, 'category-page__member-link')\n",
    "character_categories"
   ]
  },
  {
   "cell_type": "code",
   "execution_count": null,
   "metadata": {},
   "outputs": [],
   "source": [
    "character_categories[1].text"
   ]
  },
  {
   "cell_type": "code",
   "execution_count": null,
   "metadata": {},
   "outputs": [],
   "source": [
    "#this tells the driver where to get the url for each character\n",
    "characters = []\n",
    "for character in character_categories:\n",
    "    character_url = character.get_attribute('href')\n",
    "    character_name = character.text\n",
    "    characters.append({'character_name': character_name, 'url': character_url})"
   ]
  },
  {
   "attachments": {},
   "cell_type": "markdown",
   "metadata": {},
   "source": [
    "### Create Pandas DataFrame"
   ]
  },
  {
   "cell_type": "code",
   "execution_count": null,
   "metadata": {},
   "outputs": [],
   "source": [
    "characters_df = pd.DataFrame(characters)\n",
    "characters_df"
   ]
  },
  {
   "cell_type": "code",
   "execution_count": null,
   "metadata": {},
   "outputs": [],
   "source": [
    "characters_df.character_name.value_counts()"
   ]
  },
  {
   "attachments": {},
   "cell_type": "markdown",
   "metadata": {},
   "source": [
    "### Cleaning up Character Names with Regex\n",
    "Some of the character names include parentesis with extra information, for example, (Books) means that the character only appears in the books (and not in the TV series).\n",
    "\n",
    "The driver also picked up a couple rows which are not character names, like \"Characters that appear only in books\", so I've dropped those."
   ]
  },
  {
   "cell_type": "code",
   "execution_count": null,
   "metadata": {},
   "outputs": [],
   "source": [
    "#removing the text within paretheses\n",
    "characters_df.character_name = characters_df.character_name.apply(lambda x: re.sub(\"[\\(].*?[\\)]\", \"\", x))\n",
    "characters_df['first_name'] = characters_df.character_name.apply(lambda x: x.split(' ', 1)[0])"
   ]
  },
  {
   "cell_type": "code",
   "execution_count": null,
   "metadata": {},
   "outputs": [],
   "source": [
    "pd.set_option('display.max_rows', None)\n",
    "characters_df"
   ]
  },
  {
   "cell_type": "code",
   "execution_count": null,
   "metadata": {},
   "outputs": [],
   "source": [
    "#dropping rows that are not names of characters\n",
    "characters_df = characters_df.drop(index=[0, 62, 63, 89]).reset_index()"
   ]
  },
  {
   "cell_type": "code",
   "execution_count": null,
   "metadata": {},
   "outputs": [],
   "source": [
    "characters_df.drop(columns=['index'], inplace=True)"
   ]
  },
  {
   "cell_type": "code",
   "execution_count": null,
   "metadata": {},
   "outputs": [],
   "source": [
    "characters_df"
   ]
  },
  {
   "attachments": {},
   "cell_type": "markdown",
   "metadata": {},
   "source": [
    "### Save the DataFrame to a CSV"
   ]
  },
  {
   "cell_type": "code",
   "execution_count": null,
   "metadata": {},
   "outputs": [],
   "source": [
    "characters_df.to_csv('expanse_characters.csv', index=False)"
   ]
  },
  {
   "attachments": {},
   "cell_type": "markdown",
   "metadata": {},
   "source": [
    "### Project Inspiration & Code Source\n",
    "\n",
    "Thanks to Thu Vu data analytics for the inspiration and walkthrough for this project! Code has been adapted for use on data for The Expanse characters.\n",
    "https://www.youtube.com/watch?v=RuNolAh_4bU"
   ]
  }
 ],
 "metadata": {
  "kernelspec": {
   "display_name": "base",
   "language": "python",
   "name": "python3"
  },
  "language_info": {
   "codemirror_mode": {
    "name": "ipython",
    "version": 3
   },
   "file_extension": ".py",
   "mimetype": "text/x-python",
   "name": "python",
   "nbconvert_exporter": "python",
   "pygments_lexer": "ipython3",
   "version": "3.9.13"
  },
  "orig_nbformat": 4,
  "vscode": {
   "interpreter": {
    "hash": "fe0000782abc0f7405b97a69ef9d205e674e0a078a6053df3f2da5fe164e676e"
   }
  }
 },
 "nbformat": 4,
 "nbformat_minor": 2
}
